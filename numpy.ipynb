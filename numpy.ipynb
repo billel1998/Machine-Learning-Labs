{
 "cells": [
  {
   "cell_type": "markdown",
   "metadata": {},
   "source": [
    "## Numpy introduction"
   ]
  },
  {
   "cell_type": "markdown",
   "metadata": {},
   "source": [
    "This notebook is a quick introduction to the numpy library. It is intended to be a quick reference for the most common operations."
   ]
  },
  {
   "cell_type": "markdown",
   "metadata": {},
   "source": [
    "The first thing we need to do is import `numpy`. We will use the standard alias for it: `np`.\n",
    "\n",
    "```python"
   ]
  },
  {
   "cell_type": "code",
   "execution_count": 1,
   "metadata": {},
   "outputs": [],
   "source": [
    "import numpy as np"
   ]
  },
  {
   "cell_type": "markdown",
   "metadata": {},
   "source": [
    "### Task 0 (0.5 point)\n",
    "Define the maxx function that takes two numpy arrays and returns the one, which has the largest sum of elements. If the sums are equal, the function should return the first array.\n"
   ]
  },
  {
   "cell_type": "code",
   "execution_count": null,
   "metadata": {},
   "outputs": [],
   "source": []
  },
  {
   "cell_type": "markdown",
   "metadata": {},
   "source": [
    "### Task 1 (0.5 point)\n",
    "Define the meanest_of_them_all function that takes a list of numpy arrays and returns the one, which has the largest mean of elements. If the means are equal, the function should return the first array. The function should work for arbitrary shapes of the arrays."
   ]
  },
  {
   "cell_type": "code",
   "execution_count": null,
   "metadata": {},
   "outputs": [],
   "source": []
  },
  {
   "cell_type": "markdown",
   "metadata": {},
   "source": [
    "### Task 2 (1 point)\n",
    "Create 2 1D random integer (0, 100) numpy arrays of size 100, then create new array by choosing elements that appear in both arrays. Then replace all elements that are less than 50 with 0 and all elements that are greater than 50 with 1. Finally, calculate the mean of the resulting array."
   ]
  },
  {
   "cell_type": "code",
   "execution_count": null,
   "metadata": {},
   "outputs": [],
   "source": []
  },
  {
   "cell_type": "markdown",
   "metadata": {},
   "source": [
    "### Task 3 (1 point)\n",
    "Construct the following block matrix (without explicitly writing it!):\n",
    "```\n",
    "[[10, 10, 10, 10, 10, 1,  0,  0,  0,  0],\n",
    " [10, 10, 10, 10, 10, 0,  1,  0,  0,  0],\n",
    " [10, 10, 10, 10, 10, 0,  0,  1,  0,  0],\n",
    " [10, 10, 10, 10, 10, 0,  0,  0,  1,  0],\n",
    " [10, 10, 10, 10, 10, 0,  0,  0,  0,  1],\n",
    " [ 1,  0,  0,  0,  0, 10, 10, 10, 10, 10],\n",
    " [ 0,  1,  0,  0,  0, 10, 10, 10, 10, 10],\n",
    " [ 0,  0,  1,  0,  0, 10, 10, 10, 10, 10],\n",
    " [ 0,  0,  0,  1,  0, 10, 10, 10, 10, 10],\n",
    " [ 0,  0,  0,  0,  1, 10, 10, 10, 10, 10]]\n",
    "```\n",
    "Then calculate its determinant."
   ]
  },
  {
   "cell_type": "code",
   "execution_count": null,
   "metadata": {},
   "outputs": [],
   "source": []
  },
  {
   "cell_type": "markdown",
   "metadata": {},
   "source": [
    "### Task 4 (1 point)\n",
    "Replace all nan values with the mean of the array. Then normalize the array by subtracting the mean and dividing by the standard deviation."
   ]
  },
  {
   "cell_type": "code",
   "execution_count": null,
   "metadata": {},
   "outputs": [],
   "source": []
  },
  {
   "cell_type": "markdown",
   "metadata": {},
   "source": [
    "### Task 5 (1 point)\n",
    "\n",
    "Treating separate rows as independent vectors, calculate the projection of vector v onto vector w for each rows of matrices Vs and Ws."
   ]
  },
  {
   "cell_type": "code",
   "execution_count": null,
   "metadata": {},
   "outputs": [],
   "source": []
  },
  {
   "cell_type": "markdown",
   "metadata": {},
   "source": [
    "### Task 6 (2 points)\n",
    "Generate 1000 x 1000 numpy random array. Then fill some random elements with nans. Then replace all nan values with the mean of the array. Finally save the array to a file, simulataneously saving the labels for each element. The labels should be calculated as follows: if the element is greater than 70% of all numbers in the array, then the label is equal to 1, otherwise the label is 0. The labels should be saved in a separate file."
   ]
  },
  {
   "cell_type": "code",
   "execution_count": null,
   "metadata": {},
   "outputs": [],
   "source": []
  }
 ],
 "metadata": {
  "kernelspec": {
   "display_name": "Python 3.9.4 ('ML_pytorch')",
   "language": "python",
   "name": "python3"
  },
  "language_info": {
   "codemirror_mode": {
    "name": "ipython",
    "version": 3
   },
   "file_extension": ".py",
   "mimetype": "text/x-python",
   "name": "python",
   "nbconvert_exporter": "python",
   "pygments_lexer": "ipython3",
   "version": "3.9.4"
  },
  "orig_nbformat": 4,
  "vscode": {
   "interpreter": {
    "hash": "929619df38edafcb639067bc1593fc1a1a9b049525cf7e96331131a0abd5060a"
   }
  }
 },
 "nbformat": 4,
 "nbformat_minor": 2
}
