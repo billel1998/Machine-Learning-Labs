{
 "cells": [
  {
   "cell_type": "markdown",
   "metadata": {},
   "source": [
    "## Numpy introduction"
   ]
  },
  {
   "cell_type": "markdown",
   "metadata": {},
   "source": [
    "This notebook is a quick introduction to the numpy and pandas libraries. It is intended to be a quick reference for the most common operations."
   ]
  },
  {
   "cell_type": "markdown",
   "metadata": {},
   "source": [
    "The first thing we need to do is import the libraries. We will use the standard aliases for these libraries, `np` and `pd`.\n",
    "\n",
    "```python"
   ]
  },
  {
   "cell_type": "code",
   "execution_count": 1,
   "metadata": {},
   "outputs": [],
   "source": [
    "import numpy as np"
   ]
  },
  {
   "cell_type": "markdown",
   "metadata": {},
   "source": [
    "### Task 0 (0.5 point)\n",
    "Define the maxx function that takes two numpy arrays and returns the one, which has the largest sum of elements. If the sums are equal, the function should return the first array.\n"
   ]
  },
  {
   "cell_type": "code",
   "execution_count": 2,
   "metadata": {},
   "outputs": [],
   "source": [
    "def maxx(arr1, arr2):\n",
    "    if np.sum(arr1) >= np.sum(arr2):\n",
    "        return arr1\n",
    "    return arr2"
   ]
  },
  {
   "cell_type": "code",
   "execution_count": 3,
   "metadata": {},
   "outputs": [
    {
     "data": {
      "text/plain": [
       "array([ 6,  7,  8,  9, 10, 11])"
      ]
     },
     "execution_count": 3,
     "metadata": {},
     "output_type": "execute_result"
    }
   ],
   "source": [
    "arr1 = np.array([6, 7, 8, 9, 10, 11])\n",
    "arr2 = np.array([22, 23])\n",
    "maxx(arr1, arr2)"
   ]
  },
  {
   "cell_type": "markdown",
   "metadata": {},
   "source": [
    "### Task 1 (0.5 point)\n",
    "Define the meanest_of_them_all function that takes a list of numpy arrays and returns the one, which has the largest mean of elements. If the means are equal, the function should return the first array. The function should work for arbitrary shapes of the arrays."
   ]
  },
  {
   "cell_type": "code",
   "execution_count": 4,
   "metadata": {},
   "outputs": [],
   "source": [
    "def meanest_of_them_all(arrays):\n",
    "    idx = np.argmax(np.array([np.mean(arr) for arr in arrays]))\n",
    "    return arrays[idx]"
   ]
  },
  {
   "cell_type": "code",
   "execution_count": 5,
   "metadata": {},
   "outputs": [
    {
     "data": {
      "text/plain": [
       "array([22, 23])"
      ]
     },
     "execution_count": 5,
     "metadata": {},
     "output_type": "execute_result"
    }
   ],
   "source": [
    "arr1 = np.array([1, 2, 3, 4, 5])\n",
    "arr2 = np.array([6, 7, 8, 9, 10])\n",
    "arr3 = np.array([22, 23])\n",
    "meanest_of_them_all([arr1, arr2, arr3])"
   ]
  },
  {
   "cell_type": "markdown",
   "metadata": {},
   "source": [
    "### Task 2 (1 point)\n",
    "Create 2 1D random integer (0, 100) numpy arrays of size 100, then create new array by choosing elements that appear in both arrays. Then replace all elements that are less than 50 with 0 and all elements that are greater than 50 with 1. Finally, calculate the mean of the resulting array."
   ]
  },
  {
   "cell_type": "code",
   "execution_count": 6,
   "metadata": {},
   "outputs": [
    {
     "name": "stdout",
     "output_type": "stream",
     "text": [
      "0.35714285714285715\n"
     ]
    }
   ],
   "source": [
    "a  = np.random.randint(0, 100, 100)\n",
    "b = np.random.randint(0, 100, 100)\n",
    "c = np.intersect1d(a,b)\n",
    "c = np.where(c < 50, 0, 1)\n",
    "print(np.mean(c))"
   ]
  },
  {
   "cell_type": "markdown",
   "metadata": {},
   "source": [
    "### Task 3 (1 point)\n",
    "Construct the following block matrix (without explicitly writing it!):\n",
    "```\n",
    "[[10, 10, 10, 10, 10, 1,  0,  0,  0,  0],\n",
    " [10, 10, 10, 10, 10, 0,  1,  0,  0,  0],\n",
    " [10, 10, 10, 10, 10, 0,  0,  1,  0,  0],\n",
    " [10, 10, 10, 10, 10, 0,  0,  0,  1,  0],\n",
    " [10, 10, 10, 10, 10, 0,  0,  0,  0,  1],\n",
    " [ 1,  0,  0,  0,  0, 10, 10, 10, 10, 10],\n",
    " [ 0,  1,  0,  0,  0, 10, 10, 10, 10, 10],\n",
    " [ 0,  0,  1,  0,  0, 10, 10, 10, 10, 10],\n",
    " [ 0,  0,  0,  1,  0, 10, 10, 10, 10, 10],\n",
    " [ 0,  0,  0,  0,  1, 10, 10, 10, 10, 10]]\n",
    "```\n",
    "Then calculate its determinant."
   ]
  },
  {
   "cell_type": "code",
   "execution_count": 7,
   "metadata": {},
   "outputs": [
    {
     "name": "stdout",
     "output_type": "stream",
     "text": [
      "[[10. 10. 10. 10. 10.  1.  0.  0.  0.  0.]\n",
      " [10. 10. 10. 10. 10.  0.  1.  0.  0.  0.]\n",
      " [10. 10. 10. 10. 10.  0.  0.  1.  0.  0.]\n",
      " [10. 10. 10. 10. 10.  0.  0.  0.  1.  0.]\n",
      " [10. 10. 10. 10. 10.  0.  0.  0.  0.  1.]\n",
      " [ 1.  0.  0.  0.  0. 10. 10. 10. 10. 10.]\n",
      " [ 0.  1.  0.  0.  0. 10. 10. 10. 10. 10.]\n",
      " [ 0.  0.  1.  0.  0. 10. 10. 10. 10. 10.]\n",
      " [ 0.  0.  0.  1.  0. 10. 10. 10. 10. 10.]\n",
      " [ 0.  0.  0.  0.  1. 10. 10. 10. 10. 10.]]\n",
      "2499.000000000004\n"
     ]
    }
   ],
   "source": [
    "a = 10*np.ones((5, 5))\n",
    "b = np.eye(5)\n",
    "c = np.kron(np.eye(2), a) + np.kron(np.eye(2)[::-1], b)\n",
    "print(c)\n",
    "print(np.linalg.det(c))"
   ]
  },
  {
   "cell_type": "markdown",
   "metadata": {},
   "source": [
    "### Task 4 (1 point)\n",
    "Replace all nan values with the mean of the array. Then normalize the array by subtracting the mean and dividing by the standard deviation."
   ]
  },
  {
   "cell_type": "code",
   "execution_count": 8,
   "metadata": {},
   "outputs": [
    {
     "name": "stdout",
     "output_type": "stream",
     "text": [
      "[-1.80739223 -1.42009389 -1.03279556  0.         -0.25819889  0.12909944\n",
      "  0.51639778  0.          0.90369611  1.29099445  1.67829278  0.        ]\n"
     ]
    }
   ],
   "source": [
    "a = np.array([1,2,3,np.nan,5,6,7,np.nan,8,9,10,np.nan])\n",
    "a[np.isnan(a)] = np.mean(a[~np.isnan(a)])\n",
    "a = (a - np.mean(a)) / np.std(a)\n",
    "print(a)"
   ]
  },
  {
   "cell_type": "markdown",
   "metadata": {},
   "source": [
    "### Task 5 (1 point)\n",
    "\n",
    "Treating separate rows as independent vectors, calculate the projection of vector v onto vector w for each rows of matrices Vs and Ws."
   ]
  },
  {
   "cell_type": "code",
   "execution_count": 9,
   "metadata": {},
   "outputs": [],
   "source": [
    "Vs = np.random.uniform(size=(100, 20))\n",
    "Ws = np.random.uniform(size=(100, 20))"
   ]
  },
  {
   "cell_type": "code",
   "execution_count": 10,
   "metadata": {},
   "outputs": [],
   "source": [
    "def projection(v, w):\n",
    "    return np.dot(v, w) / np.dot(w, w) * w"
   ]
  },
  {
   "cell_type": "code",
   "execution_count": 11,
   "metadata": {},
   "outputs": [],
   "source": [
    "res = np.array([projection(v, w) for v, w in zip(Vs, Ws)])"
   ]
  },
  {
   "cell_type": "markdown",
   "metadata": {},
   "source": [
    "### Task 6 (2 points)\n",
    "Generate 1000 x 1000 numpy random array. Then fill some random elements with nans. Then replace all nan values with the mean of the array. Finally save the array to a file, simulataneously saving the labels for each element. The labels should be calculated as follows: if the element is greater than 70% of all numbers in the array, then the label is equal to 1, otherwise the label is 0. The labels should be saved in a separate file."
   ]
  },
  {
   "cell_type": "code",
   "execution_count": 12,
   "metadata": {},
   "outputs": [
    {
     "name": "stdout",
     "output_type": "stream",
     "text": [
      "[[7.40214100e+01 5.88891311e+01 2.36034417e+01 ... 6.61243835e+01\n",
      "  5.05846904e+01 6.24111660e+01]\n",
      " [3.12088085e+01 7.40067052e+01 9.26969330e+01 ... 8.55937632e+01\n",
      "  8.32142759e+01 2.58733264e+01]\n",
      " [6.17190077e+01 7.88541330e+01 9.28315696e+01 ... 7.52583687e+01\n",
      "  1.98473064e+01 5.62319867e+01]\n",
      " ...\n",
      " [5.73772481e+00 9.37632423e+01 6.07264053e+01 ... 3.41938171e+01\n",
      "  5.35388439e+01 4.57939955e+01]\n",
      " [1.71136953e+00 4.41008057e+01 7.14846887e+01 ... 9.10550348e+01\n",
      "  1.35255139e+00 3.89461426e+01]\n",
      " [4.53032979e-02 5.38392776e+00 8.20562565e+01 ... 1.96225347e+01\n",
      "  9.13341033e+00 2.86104024e+01]]\n",
      "[[1 0 0 ... 0 0 0]\n",
      " [0 1 1 ... 1 1 0]\n",
      " [0 1 1 ... 1 0 0]\n",
      " ...\n",
      " [0 1 0 ... 0 0 0]\n",
      " [0 0 1 ... 1 0 0]\n",
      " [0 0 1 ... 0 0 0]]\n"
     ]
    }
   ],
   "source": [
    "a = np.random.uniform(0, 100, size=(1000, 1000))\n",
    "\n",
    "# Fill random indices with nans\n",
    "a[np.random.randint(0, 1000, size=1000), np.random.randint(0, 1000, size=1000)] = np.nan\n",
    "\n",
    "# If value is nan replace it with mean of the array\n",
    "a[np.isnan(a)] = np.mean(a[~np.isnan(a)])\n",
    "\n",
    "# Sort the array and determine the threshold value\n",
    "values_sorted = np.sort(a.flatten())\n",
    "threshold = values_sorted[int(len(values_sorted) * 0.7)]\n",
    "\n",
    "# Label the values above the threshold as 1 and the rest as 0\n",
    "labels = np.where(a < threshold, 0, 1)\n",
    "\n",
    "# Save the data and labels\n",
    "np.save('labels.npy', labels)\n",
    "np.save('data.npy', a)\n",
    "print(np.load('data.npy'))\n",
    "print(np.load('labels.npy'))"
   ]
  },
  {
   "cell_type": "code",
   "execution_count": null,
   "metadata": {},
   "outputs": [],
   "source": []
  }
 ],
 "metadata": {
  "kernelspec": {
   "display_name": "Python 3.9.4 ('ML_pytorch')",
   "language": "python",
   "name": "python3"
  },
  "language_info": {
   "codemirror_mode": {
    "name": "ipython",
    "version": 3
   },
   "file_extension": ".py",
   "mimetype": "text/x-python",
   "name": "python",
   "nbconvert_exporter": "python",
   "pygments_lexer": "ipython3",
   "version": "3.9.4"
  },
  "orig_nbformat": 4,
  "vscode": {
   "interpreter": {
    "hash": "929619df38edafcb639067bc1593fc1a1a9b049525cf7e96331131a0abd5060a"
   }
  }
 },
 "nbformat": 4,
 "nbformat_minor": 2
}
